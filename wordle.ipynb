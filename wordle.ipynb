{
 "cells": [
  {
   "cell_type": "code",
   "execution_count": 3,
   "id": "819f74c3",
   "metadata": {},
   "outputs": [],
   "source": [
    "import pandas as pd"
   ]
  },
  {
   "cell_type": "markdown",
   "id": "ab73ff96",
   "metadata": {},
   "source": [
    "data = pd.read_csv('data/dict.txt', sep=\" \", header = None)"
   ]
  },
  {
   "cell_type": "code",
   "execution_count": 358,
   "id": "1d98eaea",
   "metadata": {},
   "outputs": [],
   "source": [
    "data = pd.read_csv('data/rafwords.txt', header=None)"
   ]
  },
  {
   "cell_type": "code",
   "execution_count": 359,
   "id": "2bb4de67",
   "metadata": {},
   "outputs": [
    {
     "data": {
      "text/html": [
       "<div>\n",
       "<style scoped>\n",
       "    .dataframe tbody tr th:only-of-type {\n",
       "        vertical-align: middle;\n",
       "    }\n",
       "\n",
       "    .dataframe tbody tr th {\n",
       "        vertical-align: top;\n",
       "    }\n",
       "\n",
       "    .dataframe thead th {\n",
       "        text-align: right;\n",
       "    }\n",
       "</style>\n",
       "<table border=\"1\" class=\"dataframe\">\n",
       "  <thead>\n",
       "    <tr style=\"text-align: right;\">\n",
       "      <th></th>\n",
       "      <th>0</th>\n",
       "    </tr>\n",
       "  </thead>\n",
       "  <tbody>\n",
       "    <tr>\n",
       "      <th>count</th>\n",
       "      <td>370101</td>\n",
       "    </tr>\n",
       "    <tr>\n",
       "      <th>unique</th>\n",
       "      <td>370101</td>\n",
       "    </tr>\n",
       "    <tr>\n",
       "      <th>top</th>\n",
       "      <td>a</td>\n",
       "    </tr>\n",
       "    <tr>\n",
       "      <th>freq</th>\n",
       "      <td>1</td>\n",
       "    </tr>\n",
       "  </tbody>\n",
       "</table>\n",
       "</div>"
      ],
      "text/plain": [
       "             0\n",
       "count   370101\n",
       "unique  370101\n",
       "top          a\n",
       "freq         1"
      ]
     },
     "execution_count": 359,
     "metadata": {},
     "output_type": "execute_result"
    }
   ],
   "source": [
    "data.describe()"
   ]
  },
  {
   "cell_type": "code",
   "execution_count": 360,
   "id": "a7c129f9",
   "metadata": {},
   "outputs": [],
   "source": [
    "histo = data[0].str.len().value_counts()"
   ]
  },
  {
   "cell_type": "code",
   "execution_count": 361,
   "id": "f1f99fcb",
   "metadata": {},
   "outputs": [
    {
     "data": {
      "text/plain": [
       "9.0     53402\n",
       "8.0     51627\n",
       "10.0    45872\n",
       "7.0     41998\n",
       "11.0    37539\n",
       "6.0     29874\n",
       "12.0    29125\n",
       "13.0    20944\n",
       "5.0     15918\n",
       "14.0    14149\n",
       "15.0     8846\n",
       "4.0      7185\n",
       "16.0     5182\n",
       "17.0     2967\n",
       "3.0      2129\n",
       "18.0     1471\n",
       "19.0      760\n",
       "2.0       427\n",
       "20.0      359\n",
       "21.0      168\n",
       "22.0       74\n",
       "23.0       31\n",
       "1.0        26\n",
       "24.0       12\n",
       "25.0        8\n",
       "27.0        3\n",
       "28.0        2\n",
       "29.0        2\n",
       "31.0        1\n",
       "Name: 0, dtype: int64"
      ]
     },
     "execution_count": 361,
     "metadata": {},
     "output_type": "execute_result"
    }
   ],
   "source": [
    "histo"
   ]
  },
  {
   "cell_type": "code",
   "execution_count": 363,
   "id": "63e48b0b",
   "metadata": {},
   "outputs": [
    {
     "data": {
      "image/png": "[encoded data removed]",
      "text/plain": [
       "<Figure size 432x288 with 1 Axes>"
      ]
     },
     "metadata": {
      "needs_background": "light"
     },
     "output_type": "display_data"
    }
   ],
   "source": [
    "hist = data[0].str.len().plot.hist(bins=31)"
   ]
  },
  {
   "cell_type": "code",
   "execution_count": 364,
   "id": "383eab3a",
   "metadata": {},
   "outputs": [],
   "source": [
    "data[0] = data[0].astype(str)"
   ]
  },
  {
   "cell_type": "code",
   "execution_count": 365,
   "id": "46808145",
   "metadata": {},
   "outputs": [
    {
     "data": {
      "text/plain": [
       "0                    a\n",
       "1                   aa\n",
       "2                  aaa\n",
       "3                  aah\n",
       "4                aahed\n",
       "              ...     \n",
       "370098    zwinglianism\n",
       "370099    zwinglianist\n",
       "370100         zwitter\n",
       "370101      zwitterion\n",
       "370102    zwitterionic\n",
       "Name: 0, Length: 370103, dtype: object"
      ]
     },
     "execution_count": 365,
     "metadata": {},
     "output_type": "execute_result"
    }
   ],
   "source": [
    "data[0]"
   ]
  },
  {
   "cell_type": "code",
   "execution_count": 366,
   "id": "ebffd409",
   "metadata": {},
   "outputs": [],
   "source": [
    "dato = data[0].str.len() == 5"
   ]
  },
  {
   "cell_type": "code",
   "execution_count": 367,
   "id": "e08b966e",
   "metadata": {},
   "outputs": [
    {
     "data": {
      "text/plain": [
       "0         False\n",
       "1         False\n",
       "2         False\n",
       "3         False\n",
       "4          True\n",
       "          ...  \n",
       "370098    False\n",
       "370099    False\n",
       "370100    False\n",
       "370101    False\n",
       "370102    False\n",
       "Name: 0, Length: 370103, dtype: bool"
      ]
     },
     "execution_count": 367,
     "metadata": {},
     "output_type": "execute_result"
    }
   ],
   "source": [
    "dato"
   ]
  },
  {
   "cell_type": "code",
   "execution_count": 368,
   "id": "c7f6daa2",
   "metadata": {},
   "outputs": [],
   "source": [
    "datt = data[dato]"
   ]
  },
  {
   "cell_type": "code",
   "execution_count": 369,
   "id": "85437260",
   "metadata": {},
   "outputs": [],
   "source": [
    "datu = datt[0].apply(lambda x: x.isalpha())"
   ]
  },
  {
   "cell_type": "code",
   "execution_count": 370,
   "id": "45c06692",
   "metadata": {},
   "outputs": [],
   "source": [
    "dict5 = datt[datu]"
   ]
  },
  {
   "cell_type": "code",
   "execution_count": 371,
   "id": "32931d70",
   "metadata": {},
   "outputs": [],
   "source": [
    "dict5 = dict5[0].str.lower()"
   ]
  },
  {
   "cell_type": "code",
   "execution_count": 372,
   "id": "ac2025ce",
   "metadata": {},
   "outputs": [],
   "source": [
    "dict5.to_csv(\"dict5l.txt\", index=None, header=False)"
   ]
  },
  {
   "cell_type": "code",
   "execution_count": 373,
   "id": "c3304cf1",
   "metadata": {},
   "outputs": [
    {
     "data": {
      "text/plain": [
       "4         aahed\n",
       "8         aalii\n",
       "17        aargh\n",
       "18        aaron\n",
       "34        abaca\n",
       "          ...  \n",
       "370054    zowie\n",
       "370064    zucco\n",
       "370066    zudda\n",
       "370080    zulus\n",
       "370086    zunis\n",
       "Name: 0, Length: 15918, dtype: object"
      ]
     },
     "execution_count": 373,
     "metadata": {},
     "output_type": "execute_result"
    }
   ],
   "source": [
    "dict5"
   ]
  },
  {
   "cell_type": "code",
   "execution_count": 374,
   "id": "2dda4db6",
   "metadata": {},
   "outputs": [],
   "source": [
    "dict50 = dict5.str[0]"
   ]
  },
  {
   "cell_type": "code",
   "execution_count": 375,
   "id": "e024750a",
   "metadata": {},
   "outputs": [],
   "source": [
    "dict50c = dict50.value_counts()"
   ]
  },
  {
   "cell_type": "code",
   "execution_count": 376,
   "id": "8d5a24a5",
   "metadata": {},
   "outputs": [
    {
     "data": {
      "text/plain": [
       "s    1813\n",
       "c    1196\n",
       "a    1173\n",
       "b    1141\n",
       "t     981\n",
       "p     944\n",
       "m     849\n",
       "d     801\n",
       "g     737\n",
       "f     684\n",
       "r     681\n",
       "l     679\n",
       "h     571\n",
       "k     473\n",
       "w     468\n",
       "e     421\n",
       "n     405\n",
       "o     334\n",
       "u     328\n",
       "i     301\n",
       "v     287\n",
       "j     260\n",
       "y     167\n",
       "z     112\n",
       "q      85\n",
       "x      27\n",
       "Name: 0, dtype: int64"
      ]
     },
     "execution_count": 376,
     "metadata": {},
     "output_type": "execute_result"
    }
   ],
   "source": [
    "dict50c"
   ]
  },
  {
   "cell_type": "code",
   "execution_count": 377,
   "id": "c655314d",
   "metadata": {},
   "outputs": [
    {
     "data": {
      "image/png": "[encoded data removed]",
      "text/plain": [
       "<Figure size 432x288 with 1 Axes>"
      ]
     },
     "metadata": {},
     "output_type": "display_data"
    }
   ],
   "source": [
    "plot = dict50c.plot.pie()"
   ]
  },
  {
   "cell_type": "code",
   "execution_count": 378,
   "id": "a434ab4d",
   "metadata": {},
   "outputs": [],
   "source": [
    "dict51 = dict5.str[1]"
   ]
  },
  {
   "cell_type": "code",
   "execution_count": 379,
   "id": "a621c702",
   "metadata": {},
   "outputs": [],
   "source": [
    "dict51c = dict51.value_counts"
   ]
  },
  {
   "cell_type": "code",
   "execution_count": 380,
   "id": "3a2b852b",
   "metadata": {},
   "outputs": [
    {
     "data": {
      "image/png": "[encoded data removed]",
      "text/plain": [
       "<Figure size 432x288 with 1 Axes>"
      ]
     },
     "metadata": {},
     "output_type": "display_data"
    }
   ],
   "source": [
    "plot = dict51.value_counts().plot.pie()"
   ]
  },
  {
   "cell_type": "code",
   "execution_count": 381,
   "id": "7c843306",
   "metadata": {},
   "outputs": [],
   "source": [
    "dict52 = dict5.str[2]"
   ]
  },
  {
   "cell_type": "code",
   "execution_count": 382,
   "id": "692042e1",
   "metadata": {},
   "outputs": [
    {
     "data": {
      "image/png": "[encoded data removed]",
      "text/plain": [
       "<Figure size 432x288 with 1 Axes>"
      ]
     },
     "metadata": {},
     "output_type": "display_data"
    }
   ],
   "source": [
    "plot = dict52.value_counts().plot.pie()"
   ]
  },
  {
   "cell_type": "code",
   "execution_count": 383,
   "id": "00698d33",
   "metadata": {},
   "outputs": [],
   "source": [
    "dict53 = dict5.str[3]"
   ]
  },
  {
   "cell_type": "code",
   "execution_count": 384,
   "id": "17f26a0c",
   "metadata": {},
   "outputs": [
    {
     "data": {
      "image/png": "[encoded data removed]",
      "text/plain": [
       "<Figure size 432x288 with 1 Axes>"
      ]
     },
     "metadata": {},
     "output_type": "display_data"
    }
   ],
   "source": [
    "plot = dict53.value_counts().plot.pie()"
   ]
  },
  {
   "cell_type": "code",
   "execution_count": 385,
   "id": "6b33d623",
   "metadata": {},
   "outputs": [],
   "source": [
    "dict54 = dict5.str[4]"
   ]
  },
  {
   "cell_type": "code",
   "execution_count": 386,
   "id": "682fe223",
   "metadata": {},
   "outputs": [
    {
     "data": {
      "image/png": "[encoded data removed]",
      "text/plain": [
       "<Figure size 432x288 with 1 Axes>"
      ]
     },
     "metadata": {},
     "output_type": "display_data"
    }
   ],
   "source": [
    "plot = dict54.value_counts().plot.pie()"
   ]
  },
  {
   "cell_type": "code",
   "execution_count": 409,
   "id": "cff54dcf",
   "metadata": {},
   "outputs": [
    {
     "data": {
      "text/plain": [
       "s    3148\n",
       "e    1873\n",
       "y    1685\n",
       "a    1282\n",
       "t    1090\n",
       "n     909\n",
       "r     895\n",
       "d     816\n",
       "l     718\n",
       "o     547\n",
       "i     509\n",
       "h     497\n",
       "k     376\n",
       "m     297\n",
       "c     221\n",
       "p     214\n",
       "g     194\n",
       "u     157\n",
       "x     116\n",
       "f     101\n",
       "b      97\n",
       "w      94\n",
       "z      54\n",
       "v      23\n",
       "q       3\n",
       "j       2\n",
       "Name: 0, dtype: int64"
      ]
     },
     "execution_count": 409,
     "metadata": {},
     "output_type": "execute_result"
    }
   ],
   "source": [
    "dict54.value_counts()"
   ]
  },
  {
   "cell_type": "markdown",
   "id": "d16edd2b",
   "metadata": {},
   "source": [
    "Most frequent letters in a five-letter word:\n",
    "- s, a, b, c, t, m, p\n",
    "- a, o, e, i, u, r, l\n",
    "- r, a, n, i, l, o, e\n",
    "- e, a, i, n, t, l, o\n",
    "- s, e, a, y, n, t, r\n"
   ]
  },
  {
   "cell_type": "markdown",
   "id": "c2f7f7fa",
   "metadata": {},
   "source": [
    "w_void is a set that contains letters that should not appear in the final answer.  At the begining, it should be empty."
   ]
  },
  {
   "cell_type": "code",
   "execution_count": 351,
   "id": "4a02ac6b",
   "metadata": {},
   "outputs": [],
   "source": [
    "w_void = {'i','d','e','l','b','o','u','c'}"
   ]
  },
  {
   "cell_type": "markdown",
   "id": "38da33d1",
   "metadata": {},
   "source": [
    "w_poss is a list that contains letters that should be appear somewhere in the final answer.  At the beginning, it should be empty."
   ]
  },
  {
   "cell_type": "code",
   "execution_count": 352,
   "id": "e9aa20e6",
   "metadata": {},
   "outputs": [],
   "source": [
    "w_poss = ['a','t']"
   ]
  },
  {
   "cell_type": "markdown",
   "id": "22f8752b",
   "metadata": {},
   "source": [
    "W_fixed is a list of known letters, with unknowns represented by '0'.  The initial value is all '0'."
   ]
  },
  {
   "cell_type": "code",
   "execution_count": 402,
   "id": "7762a591",
   "metadata": {},
   "outputs": [],
   "source": [
    "w_fixed = ['0','r','0','f','0']"
   ]
  },
  {
   "cell_type": "code",
   "execution_count": 403,
   "id": "3255b16f",
   "metadata": {},
   "outputs": [
    {
     "data": {
      "text/plain": [
       "4         aahed\n",
       "8         aalii\n",
       "17        aargh\n",
       "18        aaron\n",
       "34        abaca\n",
       "          ...  \n",
       "370054    zowie\n",
       "370064    zucco\n",
       "370066    zudda\n",
       "370080    zulus\n",
       "370086    zunis\n",
       "Name: 0, Length: 15918, dtype: object"
      ]
     },
     "execution_count": 403,
     "metadata": {},
     "output_type": "execute_result"
    }
   ],
   "source": [
    "dict5"
   ]
  },
  {
   "cell_type": "code",
   "execution_count": 404,
   "id": "65f4dab8",
   "metadata": {},
   "outputs": [],
   "source": [
    "dict5v = dict5.apply(lambda x: positions(x) & invalidletters(x) & mustletters(x))"
   ]
  },
  {
   "cell_type": "code",
   "execution_count": 405,
   "id": "957b5f81",
   "metadata": {},
   "outputs": [
    {
     "data": {
      "text/plain": [
       "4         False\n",
       "8         False\n",
       "17        False\n",
       "18        False\n",
       "34        False\n",
       "          ...  \n",
       "370054    False\n",
       "370064    False\n",
       "370066    False\n",
       "370080    False\n",
       "370086    False\n",
       "Name: 0, Length: 15918, dtype: bool"
      ]
     },
     "execution_count": 405,
     "metadata": {},
     "output_type": "execute_result"
    }
   ],
   "source": [
    "dict5v"
   ]
  },
  {
   "cell_type": "code",
   "execution_count": 406,
   "id": "1a71a992",
   "metadata": {},
   "outputs": [],
   "source": [
    "dict5vf = dict5[dict5v]"
   ]
  },
  {
   "cell_type": "code",
   "execution_count": 407,
   "id": "35b130c7",
   "metadata": {},
   "outputs": [
    {
     "data": {
      "text/plain": [
       "128600    graft\n",
       "166218    kraft\n",
       "Name: 0, dtype: object"
      ]
     },
     "execution_count": 407,
     "metadata": {},
     "output_type": "execute_result"
    }
   ],
   "source": [
    "dict5vf"
   ]
  },
  {
   "cell_type": "code",
   "execution_count": 268,
   "id": "b317024d",
   "metadata": {},
   "outputs": [],
   "source": [
    "def invalidletters(x):\n",
    "    if ((x[0] not in w_void) & (x[1] not in w_void) & (x[2] not in w_void) & (x[3] not in w_void) & (x[4] not in w_void)):\n",
    "        return True\n",
    "    else:\n",
    "        return False"
   ]
  },
  {
   "cell_type": "code",
   "execution_count": 269,
   "id": "c0951a0f",
   "metadata": {},
   "outputs": [],
   "source": [
    "def mustletters(x):\n",
    "    haveit = True;\n",
    "    for i in range(len(w_poss)):\n",
    "        haveit = (haveit & (w_poss[i] in x))\n",
    "    return haveit"
   ]
  },
  {
   "cell_type": "code",
   "execution_count": 397,
   "id": "cca8e8ad",
   "metadata": {},
   "outputs": [],
   "source": [
    "def positions(x):\n",
    "    sitwell = True;\n",
    "    for i in range(len(w_fixed)):\n",
    "        sitwell = sitwell & ((w_fixed[i]=='0') or (x[i]==w_fixed[i]))\n",
    "    return sitwell"
   ]
  },
  {
   "cell_type": "code",
   "execution_count": null,
   "id": "540bcbe9",
   "metadata": {},
   "outputs": [],
   "source": []
  }
 ],
 "metadata": {
  "kernelspec": {
   "display_name": "Python 3 (ipykernel)",
   "language": "python",
   "name": "python3"
  },
  "language_info": {
   "codemirror_mode": {
    "name": "ipython",
    "version": 3
   },
   "file_extension": ".py",
   "mimetype": "text/x-python",
   "name": "python",
   "nbconvert_exporter": "python",
   "pygments_lexer": "ipython3",
   "version": "3.8.12"
  }
 },
 "nbformat": 4,
 "nbformat_minor": 5
}

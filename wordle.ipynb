{
 "cells": [
  {
   "cell_type": "code",
   "execution_count": 3,
   "id": "22cf439b",
   "metadata": {},
   "outputs": [],
   "source": [
    "import pandas as pd"
   ]
  },
  {
   "cell_type": "code",
   "execution_count": 88,
   "id": "338051b5",
   "metadata": {},
   "outputs": [],
   "source": [
    "data = pd.read_csv('data/dict.txt', sep=\" \", header = None)"
   ]
  },
  {
   "cell_type": "code",
   "execution_count": 89,
   "id": "d2233437",
   "metadata": {},
   "outputs": [
    {
     "data": {
      "text/html": [
       "<div>\n",
       "<style scoped>\n",
       "    .dataframe tbody tr th:only-of-type {\n",
       "        vertical-align: middle;\n",
       "    }\n",
       "\n",
       "    .dataframe tbody tr th {\n",
       "        vertical-align: top;\n",
       "    }\n",
       "\n",
       "    .dataframe thead th {\n",
       "        text-align: right;\n",
       "    }\n",
       "</style>\n",
       "<table border=\"1\" class=\"dataframe\">\n",
       "  <thead>\n",
       "    <tr style=\"text-align: right;\">\n",
       "      <th></th>\n",
       "      <th>0</th>\n",
       "    </tr>\n",
       "  </thead>\n",
       "  <tbody>\n",
       "    <tr>\n",
       "      <th>count</th>\n",
       "      <td>466547</td>\n",
       "    </tr>\n",
       "    <tr>\n",
       "      <th>unique</th>\n",
       "      <td>466547</td>\n",
       "    </tr>\n",
       "    <tr>\n",
       "      <th>top</th>\n",
       "      <td>2</td>\n",
       "    </tr>\n",
       "    <tr>\n",
       "      <th>freq</th>\n",
       "      <td>1</td>\n",
       "    </tr>\n",
       "  </tbody>\n",
       "</table>\n",
       "</div>"
      ],
      "text/plain": [
       "             0\n",
       "count   466547\n",
       "unique  466547\n",
       "top          2\n",
       "freq         1"
      ]
     },
     "execution_count": 89,
     "metadata": {},
     "output_type": "execute_result"
    }
   ],
   "source": [
    "data.describe()"
   ]
  },
  {
   "cell_type": "code",
   "execution_count": 90,
   "id": "9bab538e",
   "metadata": {},
   "outputs": [],
   "source": [
    "histo = data[0].str.len().value_counts()"
   ]
  },
  {
   "cell_type": "code",
   "execution_count": 91,
   "id": "d3487756",
   "metadata": {},
   "outputs": [
    {
     "data": {
      "text/plain": [
       "9.0     61754\n",
       "8.0     61019\n",
       "10.0    54321\n",
       "7.0     52093\n",
       "11.0    46411\n",
       "6.0     39518\n",
       "12.0    37524\n",
       "13.0    27924\n",
       "5.0     22950\n",
       "14.0    19258\n",
       "15.0    12148\n",
       "4.0     11170\n",
       "16.0     7115\n",
       "3.0      4710\n",
       "17.0     3982\n",
       "18.0     2003\n",
       "19.0     1053\n",
       "2.0       636\n",
       "20.0      506\n",
       "21.0      238\n",
       "22.0      102\n",
       "23.0       49\n",
       "1.0        27\n",
       "24.0       18\n",
       "25.0        7\n",
       "27.0        3\n",
       "28.0        2\n",
       "29.0        2\n",
       "26.0        2\n",
       "31.0        1\n",
       "45.0        1\n",
       "Name: 0, dtype: int64"
      ]
     },
     "execution_count": 91,
     "metadata": {},
     "output_type": "execute_result"
    }
   ],
   "source": [
    "histo"
   ]
  },
  {
   "cell_type": "code",
   "execution_count": 92,
   "id": "8720d94a",
   "metadata": {},
   "outputs": [
    {
     "data": {
      "image/png": "[encoded data removed]",
      "text/plain": [
       "<Figure size 432x288 with 1 Axes>"
      ]
     },
     "metadata": {
      "needs_background": "light"
     },
     "output_type": "display_data"
    }
   ],
   "source": [
    "hist = data[0].str.len().plot.hist(bins=45)"
   ]
  },
  {
   "cell_type": "code",
   "execution_count": 42,
   "id": "8ecc9573",
   "metadata": {},
   "outputs": [],
   "source": [
    "data[0] = data[0].astype(str)"
   ]
  },
  {
   "cell_type": "code",
   "execution_count": 43,
   "id": "5421e39a",
   "metadata": {},
   "outputs": [
    {
     "data": {
      "text/plain": [
       "0                2\n",
       "1             1080\n",
       "2               &c\n",
       "3         10-point\n",
       "4             10th\n",
       "            ...   \n",
       "466545      Zwolle\n",
       "466546    Zworykin\n",
       "466547          ZZ\n",
       "466548         zZt\n",
       "466549         ZZZ\n",
       "Name: 0, Length: 466550, dtype: object"
      ]
     },
     "execution_count": 43,
     "metadata": {},
     "output_type": "execute_result"
    }
   ],
   "source": [
    "data[0]"
   ]
  },
  {
   "cell_type": "code",
   "execution_count": 93,
   "id": "0fcf9dfb",
   "metadata": {},
   "outputs": [],
   "source": [
    "dato = data[0].str.len() == 5"
   ]
  },
  {
   "cell_type": "code",
   "execution_count": 94,
   "id": "c3f22586",
   "metadata": {},
   "outputs": [
    {
     "data": {
      "text/plain": [
       "0         False\n",
       "1         False\n",
       "2         False\n",
       "3         False\n",
       "4         False\n",
       "          ...  \n",
       "466545    False\n",
       "466546    False\n",
       "466547    False\n",
       "466548    False\n",
       "466549    False\n",
       "Name: 0, Length: 466550, dtype: bool"
      ]
     },
     "execution_count": 94,
     "metadata": {},
     "output_type": "execute_result"
    }
   ],
   "source": [
    "dato"
   ]
  },
  {
   "cell_type": "code",
   "execution_count": 95,
   "id": "143b6c1a",
   "metadata": {},
   "outputs": [],
   "source": [
    "datt = data[dato]"
   ]
  },
  {
   "cell_type": "code",
   "execution_count": 97,
   "id": "8a1289ba",
   "metadata": {},
   "outputs": [],
   "source": [
    "datu = datt[0].apply(lambda x: x.isalpha())"
   ]
  },
  {
   "cell_type": "code",
   "execution_count": 98,
   "id": "9ac6afaf",
   "metadata": {},
   "outputs": [],
   "source": [
    "dict5 = datt[datu]"
   ]
  },
  {
   "cell_type": "code",
   "execution_count": 100,
   "id": "c1815efd",
   "metadata": {},
   "outputs": [],
   "source": [
    "dict5 = dict5[0].str.lower()"
   ]
  },
  {
   "cell_type": "code",
   "execution_count": 108,
   "id": "e6528e47",
   "metadata": {},
   "outputs": [],
   "source": [
    "dict5.to_csv(\"dict5l.txt\", index=None, header=False)"
   ]
  },
  {
   "cell_type": "code",
   "execution_count": 101,
   "id": "8db6ec9f",
   "metadata": {},
   "outputs": [
    {
     "data": {
      "text/plain": [
       "91        aahed\n",
       "98        aalii\n",
       "101       aalst\n",
       "102       aalto\n",
       "104       aamsi\n",
       "          ...  \n",
       "466510    zupus\n",
       "466513    zurek\n",
       "466527    zwart\n",
       "466529    zweig\n",
       "466530    zwick\n",
       "Name: 0, Length: 21952, dtype: object"
      ]
     },
     "execution_count": 101,
     "metadata": {},
     "output_type": "execute_result"
    }
   ],
   "source": [
    "dict5"
   ]
  },
  {
   "cell_type": "code",
   "execution_count": 109,
   "id": "e59036a8",
   "metadata": {},
   "outputs": [],
   "source": [
    "dict50 = dict5.str[0]"
   ]
  },
  {
   "cell_type": "code",
   "execution_count": 124,
   "id": "90144c90",
   "metadata": {},
   "outputs": [],
   "source": [
    "dict50c = dict50.value_counts()"
   ]
  },
  {
   "cell_type": "code",
   "execution_count": 125,
   "id": "71fb3e9b",
   "metadata": {},
   "outputs": [
    {
     "data": {
      "text/plain": [
       "s    2206\n",
       "a    1698\n",
       "b    1555\n",
       "c    1512\n",
       "t    1264\n",
       "m    1225\n",
       "p    1184\n",
       "d    1128\n",
       "l    1046\n",
       "g     965\n",
       "r     948\n",
       "f     847\n",
       "h     844\n",
       "k     789\n",
       "e     693\n",
       "n     647\n",
       "w     596\n",
       "o     532\n",
       "i     473\n",
       "j     446\n",
       "u     420\n",
       "v     404\n",
       "y     225\n",
       "z     176\n",
       "q      93\n",
       "x      36\n",
       "Name: 0, dtype: int64"
      ]
     },
     "execution_count": 125,
     "metadata": {},
     "output_type": "execute_result"
    }
   ],
   "source": [
    "dict50c"
   ]
  },
  {
   "cell_type": "code",
   "execution_count": 128,
   "id": "ccf2217f",
   "metadata": {},
   "outputs": [
    {
     "data": {
      "image/png": "[encoded data removed]",
      "text/plain": [
       "<Figure size 432x288 with 1 Axes>"
      ]
     },
     "metadata": {},
     "output_type": "display_data"
    }
   ],
   "source": [
    "plot = dict50c.plot.pie()"
   ]
  },
  {
   "cell_type": "code",
   "execution_count": 130,
   "id": "a4a1aae0",
   "metadata": {},
   "outputs": [],
   "source": [
    "dict51 = dict5.str[1]"
   ]
  },
  {
   "cell_type": "code",
   "execution_count": null,
   "id": "d836084d",
   "metadata": {},
   "outputs": [],
   "source": [
    "dict51c = dict51.value_counts"
   ]
  },
  {
   "cell_type": "code",
   "execution_count": 132,
   "id": "fa92e231",
   "metadata": {},
   "outputs": [
    {
     "data": {
      "image/png": "[encoded data removed]",
      "text/plain": [
       "<Figure size 432x288 with 1 Axes>"
      ]
     },
     "metadata": {},
     "output_type": "display_data"
    }
   ],
   "source": [
    "plot = dict51.value_counts().plot.pie()"
   ]
  },
  {
   "cell_type": "code",
   "execution_count": 133,
   "id": "cb0e8baa",
   "metadata": {},
   "outputs": [],
   "source": [
    "dict52 = dict5.str[2]"
   ]
  },
  {
   "cell_type": "code",
   "execution_count": 134,
   "id": "35e00456",
   "metadata": {},
   "outputs": [
    {
     "data": {
      "image/png": "[encoded data removed]",
      "text/plain": [
       "<Figure size 432x288 with 1 Axes>"
      ]
     },
     "metadata": {},
     "output_type": "display_data"
    }
   ],
   "source": [
    "plot = dict52.value_counts().plot.pie()"
   ]
  },
  {
   "cell_type": "code",
   "execution_count": 136,
   "id": "47eec8bb",
   "metadata": {},
   "outputs": [],
   "source": [
    "dict53 = dict5.str[3]"
   ]
  },
  {
   "cell_type": "code",
   "execution_count": 137,
   "id": "d2d1d48b",
   "metadata": {},
   "outputs": [
    {
     "data": {
      "image/png": "[encoded data removed]",
      "text/plain": [
       "<Figure size 432x288 with 1 Axes>"
      ]
     },
     "metadata": {},
     "output_type": "display_data"
    }
   ],
   "source": [
    "plot = dict53.value_counts().plot.pie()"
   ]
  },
  {
   "cell_type": "code",
   "execution_count": 138,
   "id": "fac1beec",
   "metadata": {},
   "outputs": [],
   "source": [
    "dict54 = dict5.str[4]"
   ]
  },
  {
   "cell_type": "code",
   "execution_count": 139,
   "id": "a6623788",
   "metadata": {},
   "outputs": [
    {
     "data": {
      "image/png": "[encoded data removed]",
      "text/plain": [
       "<Figure size 432x288 with 1 Axes>"
      ]
     },
     "metadata": {},
     "output_type": "display_data"
    }
   ],
   "source": [
    "plot = dict54.value_counts().plot.pie()"
   ]
  },
  {
   "cell_type": "markdown",
   "id": "9b417bcb",
   "metadata": {},
   "source": [
    "Most frequent letters in a five-letter word:\n",
    "- s, a, b, c, t, m, p\n",
    "- a, o, e, i, u, r, l\n",
    "- r, a, n, i, l, o, e\n",
    "- e, a, i, n, t, l, o\n",
    "- s, e, a, y, n, t, r\n"
   ]
  },
  {
   "cell_type": "markdown",
   "id": "5fc3d034",
   "metadata": {},
   "source": [
    "w_void is a set that contains letters that should not appear in the final answer.  At the begining, it should be empty."
   ]
  },
  {
   "cell_type": "code",
   "execution_count": 298,
   "id": "ef9949be",
   "metadata": {},
   "outputs": [],
   "source": [
    "w_void = {'a', 'b', 'o', 't', 'd', 'y','c','k','h'}"
   ]
  },
  {
   "cell_type": "markdown",
   "id": "c705aef7",
   "metadata": {},
   "source": [
    "w_poss is a list that contains letters that should be appear somewhere in the final answer.  At the beginning, it should be empty."
   ]
  },
  {
   "cell_type": "code",
   "execution_count": 299,
   "id": "c29f1007",
   "metadata": {},
   "outputs": [],
   "source": [
    "w_poss = ['l']"
   ]
  },
  {
   "cell_type": "code",
   "execution_count": 300,
   "id": "72196cb3",
   "metadata": {},
   "outputs": [
    {
     "data": {
      "text/plain": [
       "91        aahed\n",
       "98        aalii\n",
       "101       aalst\n",
       "102       aalto\n",
       "104       aamsi\n",
       "          ...  \n",
       "466510    zupus\n",
       "466513    zurek\n",
       "466527    zwart\n",
       "466529    zweig\n",
       "466530    zwick\n",
       "Name: 0, Length: 21952, dtype: object"
      ]
     },
     "execution_count": 300,
     "metadata": {},
     "output_type": "execute_result"
    }
   ],
   "source": [
    "dict5"
   ]
  },
  {
   "cell_type": "code",
   "execution_count": 301,
   "id": "d67980c4",
   "metadata": {},
   "outputs": [],
   "source": [
    "dict5v = dict5.apply(lambda x: (x[0]=='s') & (x[1]=='l') & (x[2]=='u') & invalidletters(x) & mustletters(x))"
   ]
  },
  {
   "cell_type": "code",
   "execution_count": 302,
   "id": "3e643282",
   "metadata": {},
   "outputs": [
    {
     "data": {
      "text/plain": [
       "91        False\n",
       "98        False\n",
       "101       False\n",
       "102       False\n",
       "104       False\n",
       "          ...  \n",
       "466510    False\n",
       "466513    False\n",
       "466527    False\n",
       "466529    False\n",
       "466530    False\n",
       "Name: 0, Length: 21952, dtype: bool"
      ]
     },
     "execution_count": 302,
     "metadata": {},
     "output_type": "execute_result"
    }
   ],
   "source": [
    "dict5v"
   ]
  },
  {
   "cell_type": "code",
   "execution_count": 303,
   "id": "d10a1ee4",
   "metadata": {},
   "outputs": [],
   "source": [
    "dict5vf = dict5[dict5v]"
   ]
  },
  {
   "cell_type": "code",
   "execution_count": 304,
   "id": "57acaa13",
   "metadata": {},
   "outputs": [
    {
     "data": {
      "text/plain": [
       "371318    sluer\n",
       "371319    slues\n",
       "371321    sluff\n",
       "371354    slugs\n",
       "371366    sluig\n",
       "371416    slump\n",
       "371424    slums\n",
       "371428    slung\n",
       "371441    slurp\n",
       "371452    slurs\n",
       "Name: 0, dtype: object"
      ]
     },
     "execution_count": 304,
     "metadata": {},
     "output_type": "execute_result"
    }
   ],
   "source": [
    "dict5vf"
   ]
  },
  {
   "cell_type": "code",
   "execution_count": 268,
   "id": "ec6a981d",
   "metadata": {},
   "outputs": [],
   "source": [
    "def invalidletters(x):\n",
    "    if ((x[0] not in w_void) & (x[1] not in w_void) & (x[2] not in w_void) & (x[3] not in w_void) & (x[4] not in w_void)):\n",
    "        return True\n",
    "    else:\n",
    "        return False"
   ]
  },
  {
   "cell_type": "code",
   "execution_count": 269,
   "id": "c8bd8d50",
   "metadata": {},
   "outputs": [],
   "source": [
    "def mustletters(x):\n",
    "    haveit = True;\n",
    "    for i in range(len(w_poss)):\n",
    "        haveit = (haveit & (w_poss[i] in x))\n",
    "    return haveit"
   ]
  },
  {
   "cell_type": "code",
   "execution_count": null,
   "id": "1477a5bc",
   "metadata": {},
   "outputs": [],
   "source": []
  }
 ],
 "metadata": {
  "kernelspec": {
   "display_name": "Python 3 (ipykernel)",
   "language": "python",
   "name": "python3"
  },
  "language_info": {
   "codemirror_mode": {
    "name": "ipython",
    "version": 3
   },
   "file_extension": ".py",
   "mimetype": "text/x-python",
   "name": "python",
   "nbconvert_exporter": "python",
   "pygments_lexer": "ipython3",
   "version": "3.8.12"
  }
 },
 "nbformat": 4,
 "nbformat_minor": 5
}
